{
  "cells": [
    {
      "cell_type": "code",
      "execution_count": null,
      "metadata": {
        "collapsed": false
      },
      "outputs": [],
      "source": [
        "%matplotlib inline"
      ]
    },
    {
      "cell_type": "markdown",
      "metadata": {},
      "source": [
        "\n# Compute the scattering transform of a speech recording\nThis script loads a speech signal from the free spoken digit dataset (FSDD)\nof a man pronouncing the word \"zero,\" computes its scattering transform, and\ndisplays the zeroth-, first-, and second-order scattering coefficients.\n"
      ]
    },
    {
      "cell_type": "markdown",
      "metadata": {},
      "source": [
        "Preliminaries\n -------------\n\n##############################################################################\n To handle audio file I/O, we import `os` and `scipy.io.wavfile`.\n\n"
      ]
    },
    {
      "cell_type": "code",
      "execution_count": null,
      "metadata": {
        "collapsed": false
      },
      "outputs": [],
      "source": [
        "import numpy as np\nimport os\nimport scipy.io.wavfile"
      ]
    },
    {
      "cell_type": "markdown",
      "metadata": {},
      "source": [
        "We import `matplotlib` to plot the calculated scattering coefficients.\n\n"
      ]
    },
    {
      "cell_type": "code",
      "execution_count": null,
      "metadata": {
        "collapsed": false
      },
      "outputs": [],
      "source": [
        "import matplotlib.pyplot as plt"
      ]
    },
    {
      "cell_type": "markdown",
      "metadata": {},
      "source": [
        "Finally, we import the `Scattering1D` class from the `scattering` package and\nthe `fetch_fsdd` function from `scattering.datasets`. The `Scattering1D`\nclass is what lets us calculate the scattering transform, while the\n`fetch_fsdd` function downloads the FSDD, if needed.\n\n"
      ]
    },
    {
      "cell_type": "code",
      "execution_count": null,
      "metadata": {
        "collapsed": false
      },
      "outputs": [],
      "source": [
        "from kymatio.numpy import Scattering1D\nfrom kymatio.datasets import fetch_fsdd"
      ]
    },
    {
      "cell_type": "markdown",
      "metadata": {},
      "source": [
        "## Scattering setup\nFirst, we download the FSDD (if not already downloaded) and read in the\nrecording `0_jackson_0.wav` of a man pronouncing the word \"zero\".\n\n"
      ]
    },
    {
      "cell_type": "code",
      "execution_count": null,
      "metadata": {
        "collapsed": false
      },
      "outputs": [],
      "source": [
        "info_dataset = fetch_fsdd(verbose=True)\n\nfile_path = os.path.join(info_dataset['path_dataset'], sorted(info_dataset['files'])[0])\n_, x = scipy.io.wavfile.read(file_path)"
      ]
    },
    {
      "cell_type": "markdown",
      "metadata": {},
      "source": [
        "Once the recording is in memory, we normalize it.\n\n"
      ]
    },
    {
      "cell_type": "code",
      "execution_count": null,
      "metadata": {
        "collapsed": false
      },
      "outputs": [],
      "source": [
        "x = x / np.max(np.abs(x))"
      ]
    },
    {
      "cell_type": "markdown",
      "metadata": {},
      "source": [
        "We are now ready to set up the parameters for the scattering transform.\nFirst, the number of samples, `T`, is given by the size of our input `x`.\nThe averaging scale is specified as a power of two, `2**J`. Here, we set\n`J = 6` to get an averaging, or maximum, scattering scale of `2**6 = 64`\nsamples. Finally, we set the number of wavelets per octave, `Q`, to `16`.\nThis lets us resolve frequencies at a resolution of `1/16` octaves.\n\n"
      ]
    },
    {
      "cell_type": "code",
      "execution_count": null,
      "metadata": {
        "collapsed": false
      },
      "outputs": [],
      "source": [
        "T = x.shape[-1]\nJ = 6\nQ = 16"
      ]
    },
    {
      "cell_type": "markdown",
      "metadata": {},
      "source": [
        "Finally, we are able to create the object which computes our scattering\ntransform, `scattering`.\n\n"
      ]
    },
    {
      "cell_type": "code",
      "execution_count": null,
      "metadata": {
        "collapsed": false
      },
      "outputs": [],
      "source": [
        "scattering = Scattering1D(J, T, Q)"
      ]
    },
    {
      "cell_type": "markdown",
      "metadata": {},
      "source": [
        "## Compute and display the scattering coefficients\nComputing the scattering transform of a signal is achieved using the\n`__call__` method of the `Scattering1D` class. The output is an array of\nshape `(C, T)`. Here, `C` is the number of scattering coefficient outputs,\nand `T` is the number of samples along the time axis. This is typically much\nsmaller than the number of input samples since the scattering transform\nperforms an average in time and subsamples the result to save memory.\n\n"
      ]
    },
    {
      "cell_type": "code",
      "execution_count": null,
      "metadata": {
        "collapsed": false
      },
      "outputs": [],
      "source": [
        "Sx = scattering(x)"
      ]
    },
    {
      "cell_type": "markdown",
      "metadata": {},
      "source": [
        "To display the scattering coefficients, we must first identify which belong\nto each order (zeroth, first, or second). We do this by extracting the `meta`\ninformation from the scattering object and constructing masks for each order.\n\n"
      ]
    },
    {
      "cell_type": "code",
      "execution_count": null,
      "metadata": {
        "collapsed": false
      },
      "outputs": [],
      "source": [
        "meta = scattering.meta()\norder0 = np.where(meta['order'] == 0)\norder1 = np.where(meta['order'] == 1)\norder2 = np.where(meta['order'] == 2)"
      ]
    },
    {
      "cell_type": "markdown",
      "metadata": {},
      "source": [
        "First, we plot the original signal `x`.\n\n"
      ]
    },
    {
      "cell_type": "code",
      "execution_count": null,
      "metadata": {
        "collapsed": false
      },
      "outputs": [],
      "source": [
        "plt.figure(figsize=(8, 2))\nplt.plot(x)\nplt.title('Original signal')"
      ]
    },
    {
      "cell_type": "markdown",
      "metadata": {},
      "source": [
        "We now plot the zeroth-order scattering coefficient, which is simply an\naverage of the original signal at the scale `2**J`.\n\n"
      ]
    },
    {
      "cell_type": "code",
      "execution_count": null,
      "metadata": {
        "collapsed": false
      },
      "outputs": [],
      "source": [
        "plt.figure(figsize=(8, 8))\nplt.subplot(3, 1, 1)\nplt.plot(Sx[order0][0])\nplt.title('Zeroth-order scattering')"
      ]
    },
    {
      "cell_type": "markdown",
      "metadata": {},
      "source": [
        "We then plot the first-order coefficients, which are arranged along time\nand log-frequency.\n\n"
      ]
    },
    {
      "cell_type": "code",
      "execution_count": null,
      "metadata": {
        "collapsed": false
      },
      "outputs": [],
      "source": [
        "plt.subplot(3, 1, 2)\nplt.imshow(Sx[order1], aspect='auto')\nplt.title('First-order scattering')"
      ]
    },
    {
      "cell_type": "markdown",
      "metadata": {},
      "source": [
        "Finally, we plot the second-order scattering coefficients. These are also\norganized aling time, but has two log-frequency indices: one first-order\nfrequency and one second-order frequency. Here, both indices are mixed along\nthe vertical axis.\n\n"
      ]
    },
    {
      "cell_type": "code",
      "execution_count": null,
      "metadata": {
        "collapsed": false
      },
      "outputs": [],
      "source": [
        "plt.subplot(3, 1, 3)\nplt.imshow(Sx[order2], aspect='auto')\nplt.title('Second-order scattering')"
      ]
    },
    {
      "cell_type": "markdown",
      "metadata": {},
      "source": [
        "Display the plots!\n\n"
      ]
    },
    {
      "cell_type": "code",
      "execution_count": null,
      "metadata": {
        "collapsed": false
      },
      "outputs": [],
      "source": [
        "plt.tight_layout()\nplt.show()"
      ]
    }
  ],
  "metadata": {
    "kernelspec": {
      "display_name": "Python 3",
      "language": "python",
      "name": "python3"
    },
    "language_info": {
      "codemirror_mode": {
        "name": "ipython",
        "version": 3
      },
      "file_extension": ".py",
      "mimetype": "text/x-python",
      "name": "python",
      "nbconvert_exporter": "python",
      "pygments_lexer": "ipython3",
      "version": "3.7.13"
    }
  },
  "nbformat": 4,
  "nbformat_minor": 0
}