{
  "cells": [
    {
      "cell_type": "code",
      "execution_count": null,
      "metadata": {
        "collapsed": false
      },
      "outputs": [],
      "source": [
        "%matplotlib inline"
      ]
    },
    {
      "cell_type": "markdown",
      "metadata": {},
      "source": [
        "\n# Scattering disk display\nThis script reproduces the display of scattering coefficients amplitude within a disk as described in\n\"Invariant Scattering Convolution Networks\" by J. Bruna and S. Mallat (2012) (https://arxiv.org/pdf/1203.1513.pdf).\n\nAuthor: https://github.com/Jonas1312\n\nEdited by: Edouard Oyallon and anakin-datawalker\n"
      ]
    },
    {
      "cell_type": "code",
      "execution_count": null,
      "metadata": {
        "collapsed": false
      },
      "outputs": [],
      "source": [
        "import matplotlib as mpl\nimport matplotlib.cm as cm\nimport matplotlib.pyplot as plt\nfrom matplotlib import gridspec\nimport numpy as np\nfrom kymatio import Scattering2D\nfrom PIL import Image\nimport os\n\nimg_name = os.path.join(os.getcwd(), \"images/digit.png\")"
      ]
    },
    {
      "cell_type": "markdown",
      "metadata": {},
      "source": [
        "## Scattering computations\n First, we read the input digit:\n\n"
      ]
    },
    {
      "cell_type": "code",
      "execution_count": null,
      "metadata": {
        "collapsed": false
      },
      "outputs": [],
      "source": [
        "src_img = Image.open(img_name).convert('L').resize((32, 32))\nsrc_img = np.array(src_img)\nprint(\"img shape: \", src_img.shape)"
      ]
    },
    {
      "cell_type": "markdown",
      "metadata": {},
      "source": [
        "We compute a Scattering Transform with $L=6$ angles and $J=3$ scales.\n\nMorlet wavelets $\\psi_{\\theta}$ are Hermitian, i.e: $\\psi_{\\theta}^*(u) = \\psi_{\\theta}(-u) = \\psi_{\\theta+\\pi}(u)$.\n\nAs a consequence, the modulus wavelet transform of a real signal $x$ computed with a Morlet wavelet $\\psi_{\\theta}$\nis invariant by a rotation of $\\pi$ of the wavelet. Indeed, since $(x*\\psi_{\\theta}(u))^* = x*(\\psi_{\\theta}^*)(u) =\nx*\\psi_{\\theta+\\pi}(u)$, we have $\\lvert x*\\psi_{\\theta}(u)\\rvert = \\lvert x*\\psi_{\\theta+\\pi}(u)\\rvert$.\n\nScattering coefficients of order $n$:\n$\\lvert \\lvert \\lvert x * \\psi_{\\theta_1, j_1} \\rvert * \\psi_{\\theta_2, j_2} \\rvert \\cdots * \\psi_{\\theta_n, j_n}\n\\rvert * \\phi_J$ are thus invariant to a rotation of $\\pi$ of any wavelet $\\psi_{\\theta_i, j_i}$. As a consequence,\nKymatio computes scattering coefficients with $L$ wavelets whose orientation is uniformly sampled in\nan interval of length $\\pi$.\n\n"
      ]
    },
    {
      "cell_type": "code",
      "execution_count": null,
      "metadata": {
        "collapsed": false
      },
      "outputs": [],
      "source": [
        "L = 6\nJ = 3\nscattering = Scattering2D(J=J, shape=src_img.shape, L=L, max_order=2, frontend='numpy')"
      ]
    },
    {
      "cell_type": "markdown",
      "metadata": {},
      "source": [
        "We now compute the scattering coefficients:\n\n"
      ]
    },
    {
      "cell_type": "code",
      "execution_count": null,
      "metadata": {
        "collapsed": false
      },
      "outputs": [],
      "source": [
        "src_img_tensor = src_img.astype(np.float32) / 255.\n\nscat_coeffs = scattering(src_img_tensor)\nprint(\"coeffs shape: \", scat_coeffs.shape)\n# Invert colors\nscat_coeffs= -scat_coeffs"
      ]
    },
    {
      "cell_type": "markdown",
      "metadata": {},
      "source": [
        "There are 127 scattering coefficients, among which 1 is low-pass, $JL=18$ are of first-order and $L^2(J(J-1)/2)=108$\nare of second-order. Due to the subsampling by $2^J=8$, the final spatial grid is of size $4\\times4$.\nWe now retrieve first-order and second-order coefficients for the display.\n\n"
      ]
    },
    {
      "cell_type": "code",
      "execution_count": null,
      "metadata": {
        "collapsed": false
      },
      "outputs": [],
      "source": [
        "len_order_1 = J*L\nscat_coeffs_order_1 = scat_coeffs[1:1+len_order_1, :, :]\nnorm_order_1 = mpl.colors.Normalize(scat_coeffs_order_1.min(), scat_coeffs_order_1.max(), clip=True)\nmapper_order_1 = cm.ScalarMappable(norm=norm_order_1, cmap=\"gray\")\n# Mapper of coefficient amplitude to a grayscale color for visualisation.\n\nlen_order_2 = (J*(J-1)//2)*(L**2)\nscat_coeffs_order_2 = scat_coeffs[1+len_order_1:, :, :]\nnorm_order_2 = mpl.colors.Normalize(scat_coeffs_order_2.min(), scat_coeffs_order_2.max(), clip=True)\nmapper_order_2 = cm.ScalarMappable(norm=norm_order_2, cmap=\"gray\")\n# Mapper of coefficient amplitude to a grayscale color for visualisation.\n\n# Retrieve spatial size\nwindow_rows, window_columns = scat_coeffs.shape[1:]\nprint(\"nb of (order 1, order 2) coefficients: \", (len_order_1, len_order_2))"
      ]
    },
    {
      "cell_type": "markdown",
      "metadata": {},
      "source": [
        "## Figure reproduction\n\n"
      ]
    },
    {
      "cell_type": "markdown",
      "metadata": {},
      "source": [
        "Now we can reproduce a figure that displays the amplitude of first-order and second-order scattering coefficients\nwithin a disk like in Bruna and Mallat's paper.\n\nFor visualisation purposes, we display first-order scattering coefficients\n$\\lvert x * \\psi_{\\theta_1, j_1} \\rvert * \\phi_J$ with $2L$ angles $\\theta_1$ spanning $[0,2\\pi]$ using the\ncentral symmetry of those coefficients explained above. We similarly display second-order scattering coefficients\n$\\lvert \\lvert x * \\psi_{\\theta_1, j_1} \\rvert * \\psi_{\\theta_2, j_2} \\rvert * \\phi_J$ with $2L$ angles\n$\\theta_1$ spanning $[0,2\\pi]$ but keep only $L$ orientations for $\\theta_2$ (and thus an interval of $\\pi$),\nso as not to overload the display.\n\nHere, each scattering coefficient is represented on the polar plane within a quadrant indexed by a radius\nand an angle.\n\nFor first-order coefficients, the polar radius is inversely proportional to the scale $2^{j_1}$ of the wavelet\n$\\psi_{\\theta_1, j_1}$ while the angle corresponds to the orientation $\\theta_1$. The surface of each quadrant\nis also inversely proportional to the scale $2^{j_1}$, which corresponds to the frequency bandwidth of the Fourier\ntransform $\\hat{\\psi}_{\\theta_1, j_1}$. First-order scattering quadrants can thus be indexed by $(\\theta_1,j_1)$.\n\nFor second-order coefficients, each first-order quadrant is equally divided along the radius axis by the number\nof increasing scales $j_1 < j_2 < J$ and by $L$ along the angle axis to produce a quadrant indexed by\n$(\\theta_1,\\theta_2, j_1, j_2)$. It simply means in our case where $J=3$ that the first-order quadrant corresponding\nto $j_1=0$ is subdivided along its radius in 2 equal quadrants corresponding to $j_2 \\in \\{1,2\\}$, which are each\nfurther divided by the $L$ possible $\\theta_2$ angles, and that $j_1=1$ quadrants are only divided by $L$,\ncorresponding to $j_2=2$ and the $L$ possible $\\theta_2$. Note that no second-order coefficients are thus associated\nto $j_1=2$ in this case whose quadrants are just left blank.\n\nObserve how the amplitude of first-order coefficients is strongest along the direction of edges, and that they\nexhibit by construction a central symmetry.\n\n"
      ]
    },
    {
      "cell_type": "code",
      "execution_count": null,
      "metadata": {
        "collapsed": false
      },
      "outputs": [],
      "source": [
        "# Define figure size and grid on which to plot input digit image, first-order and second-order scattering coefficients\nfig = plt.figure(figsize=(47, 15))\nspec = fig.add_gridspec(ncols=3, nrows=1)\n\ngs = gridspec.GridSpec(1, 3, wspace=0.1)\ngs_order_1 = gridspec.GridSpecFromSubplotSpec(window_rows, window_columns, subplot_spec=gs[1])\ngs_order_2 = gridspec.GridSpecFromSubplotSpec(window_rows, window_columns, subplot_spec=gs[2])\n\n# Start by plotting input digit image and invert colors\nax = plt.subplot(gs[0])\nax.set_xticks([])\nax.set_yticks([])\nax.imshow(src_img,cmap='gray',interpolation='nearest', aspect='auto')\nax.axis('off')\n\n# Plot first-order scattering coefficients\nax = plt.subplot(gs[1])\nax.set_xticks([])\nax.set_yticks([])\n\nl_offset = int(L - L / 2 - 1)  # follow same ordering as Kymatio for angles\n\nfor row in range(window_rows):\n    for column in range(window_columns):\n        ax = fig.add_subplot(gs_order_1[row, column], projection='polar')\n        ax.axis('off')\n        coefficients = scat_coeffs_order_1[:, row, column]\n        for j in range(J):\n            for l in range(L):\n                coeff = coefficients[l + j * L]\n                color = mapper_order_1.to_rgba(coeff)\n                angle = (l_offset - l) * np.pi / L\n                radius = 2 ** (-j - 1)\n                ax.bar(x=angle,\n                       height=radius,\n                       width=np.pi / L,\n                       bottom=radius,\n                       color=color)\n                ax.bar(x=angle + np.pi,\n                       height=radius,\n                       width=np.pi / L,\n                       bottom=radius,\n                       color=color)\n\n# Plot second-order scattering coefficients\nax = plt.subplot(gs[2])\nax.set_xticks([])\nax.set_yticks([])\n\nfor row in range(window_rows):\n    for column in range(window_columns):\n        ax = fig.add_subplot(gs_order_2[row, column], projection='polar')\n        ax.axis('off')\n        coefficients = scat_coeffs_order_2[:, row, column]\n        for j1 in range(J - 1):\n            for j2 in range(j1 + 1, J):\n                for l1 in range(L):\n                    for l2 in range(L):\n                        coeff_index = l1 * L * (J - j1 - 1) + l2 + L * (j2 - j1 - 1) + (L ** 2) * \\\n                                      (j1 * (J - 1) - j1 * (j1 - 1) // 2)\n                        # indexing a bit complex which follows the order used by Kymatio to compute\n                        # scattering coefficients\n                        coeff = coefficients[coeff_index]\n                        color = mapper_order_2.to_rgba(coeff)\n                        # split along angles first-order quadrants in L quadrants, using same ordering\n                        # as Kymatio (clockwise) and center (with the 0.5 offset)\n                        angle = (l_offset - l1) * np.pi / L + (L // 2 - l2 - 0.5) * np.pi / (L ** 2)\n                        radius = 2 ** (-j1 - 1)\n                        # equal split along radius is performed through height variable\n                        ax.bar(x=angle,\n                               height=radius / 2 ** (J - 2 - j1),\n                               width=np.pi / L ** 2,\n                               bottom=radius + (radius / 2 ** (J - 2 - j1)) * (J - j2 - 1),\n                               color=color)\n                        ax.bar(x=angle + np.pi,\n                               height=radius / 2 ** (J - 2 - j1),\n                               width=np.pi / L ** 2,\n                               bottom=radius + (radius / 2 ** (J - 2 - j1)) * (J - j2 - 1),\n                               color=color)"
      ]
    }
  ],
  "metadata": {
    "kernelspec": {
      "display_name": "Python 3",
      "language": "python",
      "name": "python3"
    },
    "language_info": {
      "codemirror_mode": {
        "name": "ipython",
        "version": 3
      },
      "file_extension": ".py",
      "mimetype": "text/x-python",
      "name": "python",
      "nbconvert_exporter": "python",
      "pygments_lexer": "ipython3",
      "version": "3.7.13"
    }
  },
  "nbformat": 4,
  "nbformat_minor": 0
}