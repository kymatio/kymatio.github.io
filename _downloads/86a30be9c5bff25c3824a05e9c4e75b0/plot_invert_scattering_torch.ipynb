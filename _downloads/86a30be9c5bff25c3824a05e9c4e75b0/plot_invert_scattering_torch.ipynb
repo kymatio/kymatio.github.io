{
  "cells": [
    {
      "cell_type": "code",
      "execution_count": null,
      "metadata": {
        "collapsed": false
      },
      "outputs": [],
      "source": [
        "%matplotlib inline"
      ]
    },
    {
      "cell_type": "markdown",
      "metadata": {},
      "source": [
        "\n# Inverting scattering via mse\nThis script aims to quantify the information loss for natural images by\nperforming a reconstruction of an image from its scattering coefficients via a\nL2-norm minimization.\n"
      ]
    },
    {
      "cell_type": "markdown",
      "metadata": {},
      "source": [
        "## Imports\n\n"
      ]
    },
    {
      "cell_type": "code",
      "execution_count": null,
      "metadata": {
        "collapsed": false
      },
      "outputs": [],
      "source": [
        "import matplotlib.pyplot as plt\nimport numpy as np\nimport torch\nimport torch.nn.functional as F\nfrom PIL import Image\nfrom torch import optim\nfrom scipy.misc import face\n\nfrom kymatio.torch import Scattering2D\n\ndevice = \"cuda\" if torch.cuda.is_available() else \"cpu\""
      ]
    },
    {
      "cell_type": "markdown",
      "metadata": {},
      "source": [
        "## Load test image\n\n"
      ]
    },
    {
      "cell_type": "code",
      "execution_count": null,
      "metadata": {
        "collapsed": false
      },
      "outputs": [],
      "source": [
        "src_img = Image.fromarray(face())\nsrc_img = src_img.resize((512, 384), Image.ANTIALIAS)\nsrc_img = np.array(src_img).astype(np.float32)\nsrc_img = src_img / 255.0\nplt.imshow(src_img)\nplt.title(\"Original image\")\n\nsrc_img = np.moveaxis(src_img, -1, 0)  # HWC to CHW\nmax_iter = 15 # number of steps for the GD\nprint(\"Image shape: \", src_img.shape)\nchannels, height, width = src_img.shape"
      ]
    },
    {
      "cell_type": "markdown",
      "metadata": {},
      "source": [
        "## Main loop\n\n"
      ]
    },
    {
      "cell_type": "code",
      "execution_count": null,
      "metadata": {
        "collapsed": false
      },
      "outputs": [],
      "source": [
        "for order in [1]:\n    for J in [2, 4]:\n\n        # Compute scattering coefficients\n        scattering = Scattering2D(J=J, shape=(height, width), max_order=order)\n        if device == \"cuda\":\n            scattering = scattering.cuda()\n            max_iter = 500\n        src_img_tensor = torch.from_numpy(src_img).to(device).contiguous()\n        scattering_coefficients = scattering(src_img_tensor)\n\n        # Create trainable input image\n        input_tensor = torch.rand(src_img.shape, requires_grad=True, device=device)\n\n        # Optimizer hyperparams\n        optimizer = optim.Adam([input_tensor], lr=1)\n\n        # Training\n        best_img = None\n        best_loss = float(\"inf\")\n        for epoch in range(1, max_iter):\n            new_coefficients = scattering(input_tensor)\n            loss = F.mse_loss(input=new_coefficients, target=scattering_coefficients)\n            print(\"Epoch {}, loss: {}\".format(epoch, loss.item()), end=\"\\r\")\n            optimizer.zero_grad()\n            loss.backward()\n            optimizer.step()\n            if loss < best_loss:\n                best_loss = loss.detach().cpu().item()\n                best_img = input_tensor.detach().cpu().numpy()\n\n        best_img = np.clip(best_img, 0.0, 1.0)\n\n        # PSNR\n        mse = np.mean((src_img - best_img) ** 2)\n        psnr = 20 * np.log10(1.0 / np.sqrt(mse))\n        print(\"\\nPSNR: {:.2f}dB for order {} and J={}\".format(psnr, order, J))\n\n        # Plot\n        plt.figure()\n        plt.imshow(np.moveaxis(best_img, 0, -1))\n        plt.title(\"PSNR: {:.2f}dB (order {}, J={})\".format(psnr, order, J))\n\nplt.show()"
      ]
    }
  ],
  "metadata": {
    "kernelspec": {
      "display_name": "Python 3",
      "language": "python",
      "name": "python3"
    },
    "language_info": {
      "codemirror_mode": {
        "name": "ipython",
        "version": 3
      },
      "file_extension": ".py",
      "mimetype": "text/x-python",
      "name": "python",
      "nbconvert_exporter": "python",
      "pygments_lexer": "ipython3",
      "version": "3.7.13"
    }
  },
  "nbformat": 4,
  "nbformat_minor": 0
}