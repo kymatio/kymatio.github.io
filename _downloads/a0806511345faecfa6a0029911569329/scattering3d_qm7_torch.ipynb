{
  "cells": [
    {
      "cell_type": "code",
      "execution_count": null,
      "metadata": {
        "collapsed": false
      },
      "outputs": [],
      "source": [
        "%matplotlib inline"
      ]
    },
    {
      "cell_type": "markdown",
      "metadata": {},
      "source": [
        "\n# 3D scattering quantum chemistry regression\n\nDescription:\nThis example trains a classifier combined with a scattering transform to\nregress molecular atomization energies on the QM7 dataset. Here, we use full\ncharges, valence charges and core charges. A linear regression is deployed.\n\nRemarks:\nThe linear regression of the QM7 energies with the given values gives MAE\n2.75, RMSE 4.18 (kcal.mol-1)\n\nReference:\nhttps://arxiv.org/abs/1805.00571\n"
      ]
    },
    {
      "cell_type": "markdown",
      "metadata": {},
      "source": [
        "## Preliminaries\n\nFirst, we import NumPy, PyTorch, and some utility modules.\n\n"
      ]
    },
    {
      "cell_type": "code",
      "execution_count": null,
      "metadata": {
        "collapsed": false
      },
      "outputs": [],
      "source": [
        "import numpy as np\nimport torch\nimport time\nimport os"
      ]
    },
    {
      "cell_type": "markdown",
      "metadata": {},
      "source": [
        "We will use scikit-learn to construct a linear model, so we import the\nnecessary modules. In addition, we need to compute distance matrices when\nnormalizing our input features, so we import `pdist` from `scipy.spatial`.\n\n"
      ]
    },
    {
      "cell_type": "code",
      "execution_count": null,
      "metadata": {
        "collapsed": false
      },
      "outputs": [],
      "source": [
        "from sklearn import (linear_model, model_selection, preprocessing,\n                     pipeline)\nfrom scipy.spatial.distance import pdist"
      ]
    },
    {
      "cell_type": "markdown",
      "metadata": {},
      "source": [
        "We then import the necessary functionality from Kymatio. First, we need the\nPyTorch frontend of the 3D solid harmonic cattering transform.\n\n"
      ]
    },
    {
      "cell_type": "code",
      "execution_count": null,
      "metadata": {
        "collapsed": false
      },
      "outputs": [],
      "source": [
        "from kymatio.torch import HarmonicScattering3D"
      ]
    },
    {
      "cell_type": "markdown",
      "metadata": {},
      "source": [
        "The 3D transform doesn't compute the zeroth-order coefficients, so we need\nto import `compute_integrals` to do this manually.\n\n"
      ]
    },
    {
      "cell_type": "code",
      "execution_count": null,
      "metadata": {
        "collapsed": false
      },
      "outputs": [],
      "source": [
        "from kymatio.scattering3d.backend.torch_backend \\\n    import TorchBackend3D"
      ]
    },
    {
      "cell_type": "markdown",
      "metadata": {},
      "source": [
        "To generate the input 3D maps, we need to calculate sums of Gaussians, so we\nimport the function `generate_weighted_sum_of_gaussians`.\n\n"
      ]
    },
    {
      "cell_type": "code",
      "execution_count": null,
      "metadata": {
        "collapsed": false
      },
      "outputs": [],
      "source": [
        "from kymatio.scattering3d.utils \\\n    import generate_weighted_sum_of_gaussians"
      ]
    },
    {
      "cell_type": "markdown",
      "metadata": {},
      "source": [
        "Finally, we import the utility functions that let us access the QM7 dataset\nand the cache directories to store our results.\n\n"
      ]
    },
    {
      "cell_type": "code",
      "execution_count": null,
      "metadata": {
        "collapsed": false
      },
      "outputs": [],
      "source": [
        "from kymatio.datasets import fetch_qm7\nfrom kymatio.caching import get_cache_dir"
      ]
    },
    {
      "cell_type": "markdown",
      "metadata": {},
      "source": [
        "## Data preparation\n\nFetch the QM7 database and extract the atomic positions and nuclear charges\nof each molecule. This dataset contains 7165 organic molecules with up to\nseven non-hydrogen atoms, whose energies were computed using density\nfunctional theory.\n\n"
      ]
    },
    {
      "cell_type": "code",
      "execution_count": null,
      "metadata": {
        "collapsed": false
      },
      "outputs": [],
      "source": [
        "qm7 = fetch_qm7(align=True)\npos = qm7['positions']\nfull_charges = qm7['charges']\n\nn_molecules = pos.shape[0]"
      ]
    },
    {
      "cell_type": "markdown",
      "metadata": {},
      "source": [
        "From the nuclear charges, we compute the number of valence electrons, which\nwe store as the valence charge of that atom.\n\n"
      ]
    },
    {
      "cell_type": "code",
      "execution_count": null,
      "metadata": {
        "collapsed": false
      },
      "outputs": [],
      "source": [
        "mask = full_charges <= 2\nvalence_charges = full_charges * mask\n\nmask = np.logical_and(full_charges > 2, full_charges <= 10)\nvalence_charges += (full_charges - 2) * mask\n\nmask = np.logical_and(full_charges > 10, full_charges <= 18)\nvalence_charges += (full_charges - 10) * mask"
      ]
    },
    {
      "cell_type": "markdown",
      "metadata": {},
      "source": [
        "We then normalize the positions of the atoms. Specifically, the positions\nare rescaled such that two Gaussians of width `sigma` placed at those\npositions overlap with amplitude less than `overlapping_precision`.\n\n"
      ]
    },
    {
      "cell_type": "code",
      "execution_count": null,
      "metadata": {
        "collapsed": false
      },
      "outputs": [],
      "source": [
        "overlapping_precision = 1e-1\nsigma = 2.0\nmin_dist = np.inf\n\nfor i in range(n_molecules):\n    n_atoms = np.sum(full_charges[i] != 0)\n    pos_i = pos[i, :n_atoms, :]\n    min_dist = min(min_dist, pdist(pos_i).min())\n\ndelta = sigma * np.sqrt(-8 * np.log(overlapping_precision))\npos = pos * delta / min_dist"
      ]
    },
    {
      "cell_type": "markdown",
      "metadata": {},
      "source": [
        "## Scattering Transform\nGiven the rescaled positions and charges, we are now ready to compute the\ndensity maps by placing Gaussians at the different positions weighted by the\nappropriate charge. These are fed into the 3D solid harmonic scattering\ntransform to obtain features that are used to regress the energies. In\norder to do this, we must first define a grid.\n\n"
      ]
    },
    {
      "cell_type": "code",
      "execution_count": null,
      "metadata": {
        "collapsed": false
      },
      "outputs": [],
      "source": [
        "M, N, O = 192, 128, 96\n\ngrid = np.mgrid[-M//2:-M//2+M, -N//2:-N//2+N, -O//2:-O//2+O]\ngrid = np.fft.ifftshift(grid)"
      ]
    },
    {
      "cell_type": "markdown",
      "metadata": {},
      "source": [
        "We then define the scattering transform using the `HarmonicScattering3D`\nclass.\n\n"
      ]
    },
    {
      "cell_type": "code",
      "execution_count": null,
      "metadata": {
        "collapsed": false
      },
      "outputs": [],
      "source": [
        "J = 2\nL = 3\nintegral_powers = [0.5, 1.0, 2.0, 3.0]\n\nscattering = HarmonicScattering3D(J=J, shape=(M, N, O),\n                                  L=L, sigma_0=sigma,\n                                  integral_powers=integral_powers)"
      ]
    },
    {
      "cell_type": "markdown",
      "metadata": {},
      "source": [
        "We then check whether a GPU is available, in which case we transfer our\nscattering object there.\n\n"
      ]
    },
    {
      "cell_type": "code",
      "execution_count": null,
      "metadata": {
        "collapsed": false
      },
      "outputs": [],
      "source": [
        "use_cuda = torch.cuda.is_available()\ndevice = torch.device(\"cuda\" if use_cuda else \"cpu\")\nscattering.to(device)"
      ]
    },
    {
      "cell_type": "markdown",
      "metadata": {},
      "source": [
        "The maps computed for each molecule are quite large, so the computation has\nto be done by batches. Here we select a small batch size to ensure that we\nhave enough memory when running on the GPU. Dividing the number of molecules\nby the batch size then gives us the number of batches.\n\n"
      ]
    },
    {
      "cell_type": "code",
      "execution_count": null,
      "metadata": {
        "collapsed": false
      },
      "outputs": [],
      "source": [
        "batch_size = 8\nn_batches = int(np.ceil(n_molecules / batch_size))"
      ]
    },
    {
      "cell_type": "markdown",
      "metadata": {},
      "source": [
        "We are now ready to compute the scattering transforms. In the following\nloop, each batch of molecules is transformed into three maps using Gaussians\ncentered at the atomic positions, one for the nuclear charges, one for the\nvalence charges, and one with their difference (called the \u201ccore\u201d charges).\nFor each map, we compute its scattering transform up to order two and store\nthe results.\n\n"
      ]
    },
    {
      "cell_type": "code",
      "execution_count": null,
      "metadata": {
        "collapsed": false
      },
      "outputs": [],
      "source": [
        "order_0, orders_1_and_2 = [], []\nprint('Computing solid harmonic scattering coefficients of '\n      '{} molecules from the QM7 database on {}'.format(\n        n_molecules,   \"GPU\" if use_cuda else \"CPU\"))\nprint('sigma: {}, L: {}, J: {}, integral powers: {}'.format(\n        sigma, L, J, integral_powers))\n\nthis_time = None\nlast_time = None\nfor i in range(n_batches):\n    this_time = time.time()\n    if last_time is not None:\n        dt = this_time - last_time\n        print(\"Iteration {} ETA: [{:02}:{:02}:{:02}]\".format(\n                    i + 1, int(((n_batches - i - 1) * dt) // 3600),\n                    int((((n_batches - i - 1) * dt) // 60) % 60),\n                    int(((n_batches - i - 1) * dt) % 60)))\n    else:\n        print(\"Iteration {} ETA: {}\".format(i + 1, '-'))\n    last_time = this_time\n    time.sleep(1)\n\n    # Extract the current batch.\n    start = i * batch_size\n    end = min(start + batch_size, n_molecules)\n\n    pos_batch = pos[start:end]\n    full_batch = full_charges[start:end]\n    val_batch = valence_charges[start:end]\n\n    # Calculate the density map for the nuclear charges and transfer\n    # to PyTorch.\n    full_density_batch = generate_weighted_sum_of_gaussians(grid,\n            pos_batch, full_batch, sigma)\n    full_density_batch = torch.from_numpy(full_density_batch)\n    full_density_batch = full_density_batch.to(device).float()\n\n    # Compute zeroth-order, first-order, and second-order scattering\n    # coefficients of the nuclear charges.\n    full_order_0 = TorchBackend3D.compute_integrals(full_density_batch,\n                                     integral_powers)\n    full_scattering = scattering(full_density_batch)\n\n    # Compute the map for valence charges.\n    val_density_batch = generate_weighted_sum_of_gaussians(grid,\n            pos_batch, val_batch, sigma)\n    val_density_batch = torch.from_numpy(val_density_batch)\n    val_density_batch = val_density_batch.to(device).float()\n\n    # Compute scattering coefficients for the valence charges.\n    val_order_0 = TorchBackend3D.compute_integrals(val_density_batch,\n                                    integral_powers)\n    val_scattering = scattering(val_density_batch)\n\n    # Take the difference between nuclear and valence charges, then\n    # compute the corresponding scattering coefficients.\n    core_density_batch = full_density_batch - val_density_batch\n\n    core_order_0 = TorchBackend3D.compute_integrals(core_density_batch,\n                                     integral_powers)\n    core_scattering = scattering(core_density_batch)\n\n    # Stack the nuclear, valence, and core coefficients into arrays\n    # and append them to the output.\n    batch_order_0 = torch.stack(\n        (full_order_0, val_order_0, core_order_0), dim=-1)\n    batch_orders_1_and_2 = torch.stack(\n        (full_scattering, val_scattering, core_scattering), dim=-1)\n\n    order_0.append(batch_order_0)\n    orders_1_and_2.append(batch_orders_1_and_2)"
      ]
    },
    {
      "cell_type": "markdown",
      "metadata": {},
      "source": [
        "Concatenate the batch outputs and transfer to NumPy.\n\n"
      ]
    },
    {
      "cell_type": "code",
      "execution_count": null,
      "metadata": {
        "collapsed": false
      },
      "outputs": [],
      "source": [
        "order_0 = torch.cat(order_0, dim=0)\norders_1_and_2 = torch.cat(orders_1_and_2, dim=0)\n\norder_0 = order_0.cpu().numpy()\norders_1_and_2 = orders_1_and_2.cpu().numpy()"
      ]
    },
    {
      "cell_type": "markdown",
      "metadata": {},
      "source": [
        "## Regression\n\nTo use the scattering coefficients as features in a scikit-learn pipeline,\nthese must be of shape `(n_samples, n_features)`, so we reshape our arrays\naccordingly.\n\n"
      ]
    },
    {
      "cell_type": "code",
      "execution_count": null,
      "metadata": {
        "collapsed": false
      },
      "outputs": [],
      "source": [
        "order_0 = order_0.reshape((n_molecules, -1))\norders_1_and_2 = orders_1_and_2.reshape((n_molecules, -1))"
      ]
    },
    {
      "cell_type": "markdown",
      "metadata": {},
      "source": [
        "Since the above calculation is quite lengthy, we save the results to a cache\nfor future use.\n\n"
      ]
    },
    {
      "cell_type": "code",
      "execution_count": null,
      "metadata": {
        "collapsed": false
      },
      "outputs": [],
      "source": [
        "basename = 'qm7_L_{}_J_{}_sigma_{}_MNO_{}_powers_{}.npy'.format(\n        L, J, sigma, (M, N, O), integral_powers)\n\ncache_dir = get_cache_dir(\"qm7/experiments\")\n\nfilename = os.path.join(cache_dir, 'order_0_' + basename)\nnp.save(filename, order_0)\n\nfilename = os.path.join(cache_dir, 'orders_1_and_2' + basename)\nnp.save(filename, orders_1_and_2)"
      ]
    },
    {
      "cell_type": "markdown",
      "metadata": {},
      "source": [
        "We now concatenate the zeroth-order coefficients with the rest since we want\nto use all of them as features.\n\n"
      ]
    },
    {
      "cell_type": "code",
      "execution_count": null,
      "metadata": {
        "collapsed": false
      },
      "outputs": [],
      "source": [
        "scattering_coef = np.concatenate([order_0, orders_1_and_2], axis=1)"
      ]
    },
    {
      "cell_type": "markdown",
      "metadata": {},
      "source": [
        "Fetch the target energies from the QM7 dataset.\n\n"
      ]
    },
    {
      "cell_type": "code",
      "execution_count": null,
      "metadata": {
        "collapsed": false
      },
      "outputs": [],
      "source": [
        "qm7 = fetch_qm7()\ntarget = qm7['energies']"
      ]
    },
    {
      "cell_type": "markdown",
      "metadata": {},
      "source": [
        "We evaluate the performance of the regression using five-fold\ncross-validation. To do so, we first shuffle the molecules, then we store\nthe resulting indices in `cross_val_folds`.\n\n"
      ]
    },
    {
      "cell_type": "code",
      "execution_count": null,
      "metadata": {
        "collapsed": false
      },
      "outputs": [],
      "source": [
        "n_folds = 5\n\nP = np.random.permutation(n_molecules).reshape((n_folds, -1))\n\ncross_val_folds = []\n\nfor i_fold in range(n_folds):\n    fold = (np.concatenate(P[np.arange(n_folds) != i_fold], axis=0),\n            P[i_fold])\n    cross_val_folds.append(fold)"
      ]
    },
    {
      "cell_type": "markdown",
      "metadata": {},
      "source": [
        "Given these folds, we compute the regression error for various settings of\nthe `alpha` parameter, which controls the amount of regularization applied\nto the regression problem (here in the form of a simple ridge regression, or\nTikhonov, regularization). The mean absolute error (MAE) and root mean\nsquare error (RMSE) is output for each value of `alpha`.\n\n"
      ]
    },
    {
      "cell_type": "code",
      "execution_count": null,
      "metadata": {
        "collapsed": false
      },
      "outputs": [],
      "source": [
        "alphas = 10.0 ** (-np.arange(1, 10))\nfor i, alpha in enumerate(alphas):\n    scaler = preprocessing.StandardScaler()\n    ridge = linear_model.Ridge(alpha=alpha)\n\n    regressor = pipeline.make_pipeline(scaler, ridge)\n\n    target_prediction = model_selection.cross_val_predict(regressor,\n            X=scattering_coef, y=target, cv=cross_val_folds)\n\n    MAE = np.mean(np.abs(target_prediction - target))\n    RMSE = np.sqrt(np.mean((target_prediction - target) ** 2))\n\n    print('Ridge regression, alpha: {}, MAE: {}, RMSE: {}'.format(\n        alpha, MAE, RMSE))"
      ]
    }
  ],
  "metadata": {
    "kernelspec": {
      "display_name": "Python 3",
      "language": "python",
      "name": "python3"
    },
    "language_info": {
      "codemirror_mode": {
        "name": "ipython",
        "version": 3
      },
      "file_extension": ".py",
      "mimetype": "text/x-python",
      "name": "python",
      "nbconvert_exporter": "python",
      "pygments_lexer": "ipython3",
      "version": "3.7.13"
    }
  },
  "nbformat": 4,
  "nbformat_minor": 0
}