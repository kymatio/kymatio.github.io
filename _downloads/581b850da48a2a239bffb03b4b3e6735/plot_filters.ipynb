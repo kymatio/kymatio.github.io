{
  "cells": [
    {
      "cell_type": "code",
      "execution_count": null,
      "metadata": {
        "collapsed": false
      },
      "outputs": [],
      "source": [
        "%matplotlib inline"
      ]
    },
    {
      "cell_type": "markdown",
      "metadata": {},
      "source": [
        "\n# Plot the 2D wavelet filters\nSee :meth:`kymatio.scattering2d.filter_bank` for more informations about the used wavelets.\n"
      ]
    },
    {
      "cell_type": "code",
      "execution_count": null,
      "metadata": {
        "collapsed": false
      },
      "outputs": [],
      "source": [
        "from colorsys import hls_to_rgb\nimport matplotlib.pyplot as plt\nimport numpy as np\nfrom kymatio.scattering2d.filter_bank import filter_bank\nfrom scipy.fft import fft2"
      ]
    },
    {
      "cell_type": "markdown",
      "metadata": {},
      "source": [
        "## Initial parameters of the filter bank\n\n"
      ]
    },
    {
      "cell_type": "code",
      "execution_count": null,
      "metadata": {
        "collapsed": false
      },
      "outputs": [],
      "source": [
        "M = 32\nJ = 3\nL = 8\nfilters_set = filter_bank(M, M, J, L=L)"
      ]
    },
    {
      "cell_type": "markdown",
      "metadata": {},
      "source": [
        "## Imshow complex images\nThanks to https://stackoverflow.com/questions/17044052/mathplotlib-imshow-complex-2d-array\n\n"
      ]
    },
    {
      "cell_type": "code",
      "execution_count": null,
      "metadata": {
        "collapsed": false
      },
      "outputs": [],
      "source": [
        "def colorize(z):\n    n, m = z.shape\n    c = np.zeros((n, m, 3))\n    c[np.isinf(z)] = (1.0, 1.0, 1.0)\n    c[np.isnan(z)] = (0.5, 0.5, 0.5)\n\n    idx = ~(np.isinf(z) + np.isnan(z))\n    A = (np.angle(z[idx]) + np.pi) / (2*np.pi)\n    A = (A + 0.5) % 1.0\n    B = 1.0/(1.0 + abs(z[idx])**0.3)\n    c[idx] = [hls_to_rgb(a, b, 0.8) for a, b in zip(A, B)]\n    return c"
      ]
    },
    {
      "cell_type": "markdown",
      "metadata": {},
      "source": [
        "## Bandpass filters\nFirst, we display each wavelet according to its scale and orientation.\n\n"
      ]
    },
    {
      "cell_type": "code",
      "execution_count": null,
      "metadata": {
        "collapsed": false
      },
      "outputs": [],
      "source": [
        "fig, axs = plt.subplots(J, L, sharex=True, sharey=True)\nfig.set_figheight(6)\nfig.set_figwidth(6)\nplt.rc('text', usetex=True)\nplt.rc('font', family='serif')\ni = 0\nfor filter in filters_set['psi']:\n    f = filter[\"levels\"][0]\n    filter_c = fft2(f)\n    filter_c = np.fft.fftshift(filter_c)\n    axs[i // L, i % L].imshow(colorize(filter_c))\n    axs[i // L, i % L].axis('off')\n    axs[i // L, i % L].set_title(\n        \"$j = {}$ \\n $\\\\theta={}$\".format(i // L, i % L))\n    i = i+1\n\nfig.suptitle((r\"Wavelets for each scales $j$ and angles $\\theta$ used.\"\n              \"\\nColor saturation and color hue respectively denote complex \"\n              \"magnitude and complex phase.\"), fontsize=13)\nfig.show()"
      ]
    },
    {
      "cell_type": "markdown",
      "metadata": {},
      "source": [
        "## Lowpass filter\nWe finally display the low-pass filter.\n\n"
      ]
    },
    {
      "cell_type": "code",
      "execution_count": null,
      "metadata": {
        "collapsed": false
      },
      "outputs": [],
      "source": [
        "plt.figure()\nplt.rc('text', usetex=True)\nplt.rc('font', family='serif')\nplt.axis('off')\nplt.set_cmap('gray_r')\n\nf = filters_set['phi'][\"levels\"][0]\n\nfilter_c = fft2(f)\nfilter_c = np.fft.fftshift(filter_c)\nplt.suptitle((\"The corresponding low-pass filter, also known as scaling \"\n              \"function.\\nColor saturation and color hue respectively denote \"\n              \"complex magnitude and complex phase\"), fontsize=13)\nfilter_c = np.abs(filter_c)\nplt.imshow(filter_c)\n\nplt.show()"
      ]
    }
  ],
  "metadata": {
    "kernelspec": {
      "display_name": "Python 3",
      "language": "python",
      "name": "python3"
    },
    "language_info": {
      "codemirror_mode": {
        "name": "ipython",
        "version": 3
      },
      "file_extension": ".py",
      "mimetype": "text/x-python",
      "name": "python",
      "nbconvert_exporter": "python",
      "pygments_lexer": "ipython3",
      "version": "3.7.13"
    }
  },
  "nbformat": 4,
  "nbformat_minor": 0
}