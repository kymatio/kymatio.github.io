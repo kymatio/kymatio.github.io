{
  "cells": [
    {
      "cell_type": "code",
      "execution_count": null,
      "metadata": {
        "collapsed": false
      },
      "outputs": [],
      "source": [
        "%matplotlib inline"
      ]
    },
    {
      "cell_type": "markdown",
      "metadata": {},
      "source": [
        "\n# Classification on CIFAR10\n\nBased on pytorch example for MNIST\n"
      ]
    },
    {
      "cell_type": "code",
      "execution_count": null,
      "metadata": {
        "collapsed": false
      },
      "outputs": [],
      "source": [
        "import torch\nimport torch.nn as nn\nimport torch.nn.functional as F\nimport torch.optim\nfrom torchvision import datasets, transforms\nfrom kymatio.torch import Scattering2D\nimport kymatio.datasets as scattering_datasets\nimport argparse\n\n\nclass Scattering2dCNN(nn.Module):\n    '''\n        Simple CNN with 3x3 convs based on VGG\n    '''\n    def __init__(self, in_channels, classifier_type='cnn'):\n        super(Scattering2dCNN, self).__init__()\n        self.in_channels = in_channels\n        self.classifier_type = classifier_type\n        self.build()\n\n    def build(self):\n        cfg = [256, 256, 256, 'M', 512, 512, 512, 1024, 1024]\n        layers = []\n        self.K = self.in_channels\n        self.bn = nn.BatchNorm2d(self.K)\n        if self.classifier_type == 'cnn':\n            for v in cfg:\n                if v == 'M':\n                    layers += [nn.MaxPool2d(kernel_size=2, stride=2)]\n                else:\n                    conv2d = nn.Conv2d(self.in_channels, v, kernel_size=3, padding=1)\n                    layers += [conv2d, nn.BatchNorm2d(v), nn.ReLU(inplace=True)]\n                    self.in_channels = v\n\n            layers += [nn.AdaptiveAvgPool2d(2)]\n            self.features = nn.Sequential(*layers)\n            self.classifier =  nn.Linear(1024*4, 10)\n\n        elif self.classifier_type == 'mlp':\n            self.classifier = nn.Sequential(\n                        nn.Linear(self.K*8*8, 1024), nn.ReLU(),\n                        nn.Linear(1024, 1024), nn.ReLU(),\n                        nn.Linear(1024, 10))\n            self.features = None\n\n        elif self.classifier_type == 'linear':\n            self.classifier = nn.Linear(self.K*8*8,10)\n            self.features = None\n\n\n    def forward(self, x):\n        x = self.bn(x.view(-1, self.K, 8, 8))\n        if self.features:\n            x = self.features(x)\n        x = x.view(x.size(0), -1)\n        x = self.classifier(x)\n        return x\n\n\n\ndef train(model, device, train_loader, optimizer, epoch, scattering):\n    model.train()\n    for batch_idx, (data, target) in enumerate(train_loader):\n        data, target = data.to(device), target.to(device)\n        optimizer.zero_grad()\n        output = model(scattering(data))\n        loss = F.cross_entropy(output, target)\n        loss.backward()\n        optimizer.step()\n        if batch_idx % 50 == 0:\n            print('Train Epoch: {} [{}/{} ({:.0f}%)]\\tLoss: {:.6f}'.format(\n                epoch, batch_idx * len(data), len(train_loader.dataset),\n                100. * batch_idx / len(train_loader), loss.item()))\n\ndef test(model, device, test_loader, scattering):\n    model.eval()\n    test_loss = 0\n    correct = 0\n    with torch.no_grad():\n        for data, target in test_loader:\n            data, target = data.to(device), target.to(device)\n            output = model(scattering(data))\n            test_loss += F.cross_entropy(output, target, reduction='sum').item() # sum up batch loss\n            pred = output.max(1, keepdim=True)[1] # get the index of the max log-probability\n            correct += pred.eq(target.view_as(pred)).sum().item()\n\n    test_loss /= len(test_loader.dataset)\n    print('\\nTest set: Average loss: {:.4f}, Accuracy: {}/{} ({:.2f}%)\\n'.format(\n        test_loss, correct, len(test_loader.dataset),\n        100. * correct / len(test_loader.dataset)))\n\nif __name__ == '__main__':\n\n    \"\"\"Train a simple Hybrid Scattering + CNN model on CIFAR.\n\n        Three models are demoed:\n        'linear' - scattering + linear model\n        'mlp' - scattering + MLP\n        'cnn' - scattering + CNN\n\n        scattering 1st order can also be set by the mode\n        Scattering features are normalized by batch normalization.\n        The model achieves around 88% testing accuracy after 10 epochs.\n\n        scatter 1st order + linear achieves 64% in 90 epochs\n        scatter 2nd order + linear achieves 70.5% in 90 epochs\n\n        scatter + cnn achieves 88% in 15 epochs\n\n    \"\"\"\n    parser = argparse.ArgumentParser(description='MNIST scattering  + hybrid examples')\n    parser.add_argument('--mode', type=int, default=1,help='scattering 1st or 2nd order')\n    parser.add_argument('--classifier', type=str, default='cnn',help='classifier model')\n    args = parser.parse_args()\n    assert(args.classifier in ['linear','mlp','cnn'])\n\n    use_cuda = torch.cuda.is_available()\n    device = torch.device(\"cuda\" if use_cuda else \"cpu\")\n\n    if args.mode == 1:\n        scattering = Scattering2D(J=2, shape=(32, 32), max_order=1)\n        K = 17*3\n    else:\n        scattering = Scattering2D(J=2, shape=(32, 32))\n        K = 81*3\n    scattering = scattering.to(device)\n\n\n\n\n    model = Scattering2dCNN(K,args.classifier).to(device)\n\n    # DataLoaders\n    num_workers = 4\n    if use_cuda:\n        pin_memory = True\n    else:\n        pin_memory = False\n\n    normalize = transforms.Normalize(mean=[0.485, 0.456, 0.406],\n                                     std=[0.229, 0.224, 0.225])\n\n    train_loader = torch.utils.data.DataLoader(\n        datasets.CIFAR10(root=scattering_datasets.get_dataset_dir('CIFAR'), train=True, transform=transforms.Compose([\n            transforms.RandomHorizontalFlip(),\n            transforms.RandomCrop(32, 4),\n            transforms.ToTensor(),\n            normalize,\n        ]), download=True),\n        batch_size=128, shuffle=True, num_workers=num_workers, pin_memory=pin_memory)\n\n    test_loader = torch.utils.data.DataLoader(\n        datasets.CIFAR10(root=scattering_datasets.get_dataset_dir('CIFAR'), train=False, transform=transforms.Compose([\n            transforms.ToTensor(),\n            normalize,\n        ])),\n        batch_size=128, shuffle=False, num_workers=num_workers, pin_memory=pin_memory)\n\n    # Optimizer\n    lr = 0.1\n    for epoch in range(0, 90):\n        if epoch%20==0:\n            optimizer = torch.optim.SGD(model.parameters(), lr=lr, momentum=0.9,\n                                        weight_decay=0.0005)\n            lr*=0.2\n\n        train(model, device, train_loader, optimizer, epoch+1, scattering)\n        test(model, device, test_loader, scattering)"
      ]
    }
  ],
  "metadata": {
    "kernelspec": {
      "display_name": "Python 3",
      "language": "python",
      "name": "python3"
    },
    "language_info": {
      "codemirror_mode": {
        "name": "ipython",
        "version": 3
      },
      "file_extension": ".py",
      "mimetype": "text/x-python",
      "name": "python",
      "nbconvert_exporter": "python",
      "pygments_lexer": "ipython3",
      "version": "3.7.13"
    }
  },
  "nbformat": 4,
  "nbformat_minor": 0
}