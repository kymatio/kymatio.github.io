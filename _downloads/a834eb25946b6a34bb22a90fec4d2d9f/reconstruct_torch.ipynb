{
  "cells": [
    {
      "cell_type": "code",
      "execution_count": null,
      "metadata": {
        "collapsed": false
      },
      "outputs": [],
      "source": [
        "%matplotlib inline"
      ]
    },
    {
      "cell_type": "markdown",
      "metadata": {},
      "source": [
        "\n# Reconstruct a synthetic signal from its scattering transform\nIn this example we generate a harmonic signal of a few different frequencies,\nanalyze it with the 1D scattering transform, and reconstruct the scattering\ntransform back to the harmonic signal.\n"
      ]
    },
    {
      "cell_type": "markdown",
      "metadata": {},
      "source": [
        "## Import the necessary packages\n\n"
      ]
    },
    {
      "cell_type": "code",
      "execution_count": null,
      "metadata": {
        "collapsed": false
      },
      "outputs": [],
      "source": [
        "import numpy as np\nimport torch\nfrom kymatio.torch import Scattering1D\n\nfrom torch.autograd import backward\nimport matplotlib.pyplot as plt\ndevice = torch.device(\"cuda\" if torch.cuda.is_available else \"cpu\")"
      ]
    },
    {
      "cell_type": "markdown",
      "metadata": {},
      "source": [
        "## Write a function that can generate a harmonic signal\nLet's write a function that can generate some simple blip-type sounds with\ndecaying harmonics. It will take four arguments: T, the length of the output\nvector; num_intervals, the number of different blips; gamma, the exponential\ndecay factor of the harmonic; random_state, a random seed to generate\nrandom pitches and phase shifts.\nThe function proceeds by splitting the time length T into intervals, chooses\nbase frequencies and phases, generates sinusoidal sounds and harmonics,\nand then adds a windowed version to the output signal.\n\n"
      ]
    },
    {
      "cell_type": "code",
      "execution_count": null,
      "metadata": {
        "collapsed": false
      },
      "outputs": [],
      "source": [
        "def generate_harmonic_signal(T, num_intervals=4, gamma=0.9, random_state=42):\n    \"\"\"\n    Generates a harmonic signal, which is made of piecewise constant notes\n    (of random fundamental frequency), with half overlap\n    \"\"\"\n    rng = np.random.RandomState(random_state)\n    num_notes = 2 * (num_intervals - 1) + 1\n    support = T // num_intervals\n    half_support = support // 2\n\n    base_freq = 0.1 * rng.rand(num_notes) + 0.05\n    phase = 2 * np.pi * rng.rand(num_notes)\n    window = np.hanning(support)\n    x = np.zeros(T, dtype='float32')\n    t = np.arange(0, support)\n    u = 2 * np.pi * t\n    for i in range(num_notes):\n        ind_start = i * half_support\n        note = np.zeros(support)\n        for k in range(1):\n            note += (np.power(gamma, k) *\n                     np.cos(u * (k + 1) * base_freq[i] + phase[i]))\n        x[ind_start:ind_start + support] += note * window\n\n    return x"
      ]
    },
    {
      "cell_type": "markdown",
      "metadata": {},
      "source": [
        "Let\u2019s take a look at what such a signal could look like.\n\n"
      ]
    },
    {
      "cell_type": "code",
      "execution_count": null,
      "metadata": {
        "collapsed": false
      },
      "outputs": [],
      "source": [
        "T = 2 ** 13\nx = torch.from_numpy(generate_harmonic_signal(T))\nplt.figure(figsize=(8, 2))\nplt.plot(x.numpy())\nplt.title(\"Original signal\")"
      ]
    },
    {
      "cell_type": "markdown",
      "metadata": {},
      "source": [
        "Let\u2019s take a look at the signal spectrogram.\n\n"
      ]
    },
    {
      "cell_type": "code",
      "execution_count": null,
      "metadata": {
        "collapsed": false
      },
      "outputs": [],
      "source": [
        "plt.figure(figsize=(8, 8))\nplt.specgram(x.numpy(), Fs=1024)\nplt.title(\"Spectrogram of original signal\")"
      ]
    },
    {
      "cell_type": "markdown",
      "metadata": {},
      "source": [
        "# Doing the scattering transform.\n\n"
      ]
    },
    {
      "cell_type": "code",
      "execution_count": null,
      "metadata": {
        "collapsed": false
      },
      "outputs": [],
      "source": [
        "J = 6\nQ = 16\n\nscattering = Scattering1D(J, T, Q).to(device)\nx = x.to(device)\n\nSx = scattering(x)\n\nlearning_rate = 100\nbold_driver_accelerator = 1.1\nbold_driver_brake = 0.55\nn_iterations = 200"
      ]
    },
    {
      "cell_type": "markdown",
      "metadata": {},
      "source": [
        "Reconstruct the scattering transform back to original signal.\n\n"
      ]
    },
    {
      "cell_type": "code",
      "execution_count": null,
      "metadata": {
        "collapsed": false
      },
      "outputs": [],
      "source": [
        "# Random guess to initialize.\ntorch.manual_seed(0)\ny = torch.randn((T,), requires_grad=True, device=device)\nSy = scattering(y)\n\nhistory = []\nsignal_update = torch.zeros_like(x, device=device)\n\n# Iterate to recontsruct random guess to be close to target.\nfor k in range(n_iterations):\n    # Backpropagation.\n    err = torch.norm(Sx - Sy)\n\n    if k % 10 == 0:\n        print('Iteration %3d, loss %.2f' % (k, err.detach().cpu().numpy()))\n\n    # Measure the new loss.\n    history.append(err.detach().cpu())\n\n    backward(err)\n\n    delta_y = y.grad\n\n    # Gradient descent\n    with torch.no_grad():\n        signal_update = - learning_rate * delta_y\n        new_y = y + signal_update\n    new_y.requires_grad = True\n\n    # New forward propagation.\n    Sy = scattering(new_y)\n\n    if history[k] > history[k - 1]:\n        learning_rate *= bold_driver_brake\n    else:\n        learning_rate *= bold_driver_accelerator\n        y = new_y\n\nplt.figure(figsize=(8, 2))\nplt.plot(history)\nplt.title(\"MSE error vs. iterations\")\n\nplt.figure(figsize=(8, 2))\nplt.plot(y.detach().cpu().numpy())\nplt.title(\"Reconstructed signal\")\n\nplt.figure(figsize=(8, 8))\nplt.specgram(y.detach().cpu().numpy(), Fs=1024)\nplt.title(\"Spectrogram of reconstructed signal\")\n\nplt.show()"
      ]
    }
  ],
  "metadata": {
    "kernelspec": {
      "display_name": "Python 3",
      "language": "python",
      "name": "python3"
    },
    "language_info": {
      "codemirror_mode": {
        "name": "ipython",
        "version": 3
      },
      "file_extension": ".py",
      "mimetype": "text/x-python",
      "name": "python",
      "nbconvert_exporter": "python",
      "pygments_lexer": "ipython3",
      "version": "3.7.13"
    }
  },
  "nbformat": 4,
  "nbformat_minor": 0
}